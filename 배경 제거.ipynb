{
 "cells": [
  {
   "cell_type": "markdown",
   "id": "d15f4f92",
   "metadata": {},
   "source": [
    "# 배경 제거"
   ]
  },
  {
   "cell_type": "markdown",
   "id": "58943800",
   "metadata": {},
   "source": [
    "#### 필요한 모듈 설정"
   ]
  },
  {
   "cell_type": "code",
   "execution_count": 1,
   "id": "f600f5f3",
   "metadata": {},
   "outputs": [],
   "source": [
    "import time\n",
    "import io\n",
    "import numpy as np\n",
    "import matplotlib.pyplot as plt\n",
    "from PIL import Image, ImageFile\n",
    "ImageFile.LOAD_TRUNCATED_IMAGES = True\n",
    "from rembg.bg import remove as remove_bg\n",
    "from PIL import Image"
   ]
  },
  {
   "cell_type": "markdown",
   "id": "4554e5a7",
   "metadata": {},
   "source": [
    "#### rembg함수 : 선택 이미지 배경 제거"
   ]
  },
  {
   "cell_type": "code",
   "execution_count": 33,
   "id": "b357cad3",
   "metadata": {},
   "outputs": [],
   "source": [
    "def rembg(n):\n",
    "    path = 'C:/Users/Daeun/종프/imgs/img{}.png'.format(n)\n",
    "    fig = plt.figure(figsize=(10, 10))\n",
    "    \n",
    "    # 원본 이미지 show\n",
    "    fig.add_subplot(1, 2, 1)\n",
    "    orig_img = Image.open(path)\n",
    "    #plt.imshow(orig_img)\n",
    "    \n",
    "    # 배경 제거한 이미지 show\n",
    "    fig.add_subplot(1, 2, 2)\n",
    "    byteImg = Image.open(path)\n",
    "    \n",
    "    byteImgIO = io.BytesIO()\n",
    "    byteImg.save(byteImgIO, \"PNG\")\n",
    "    byteImgIO.seek(0)\n",
    "    byteImg = byteImgIO.read()\n",
    "    \n",
    "    result = remove_bg(byteImg)\n",
    "    img = Image.open(io.BytesIO(result)).convert(\"RGBA\")\n",
    "    #plt.imshow(img)\n",
    "    \n",
    "    # png 확장자로 저장\n",
    "    img.save(\"C:/Users/Daeun/종프/rembg_imgs/img{}.png\".format(n), \"PNG\") "
   ]
  },
  {
   "cell_type": "code",
   "execution_count": null,
   "id": "ce381128",
   "metadata": {},
   "outputs": [],
   "source": [
    "for i in range(120):\n",
    "    rembg(i)"
   ]
  }
 ],
 "metadata": {
  "kernelspec": {
   "display_name": "Python 3 (ipykernel)",
   "language": "python",
   "name": "python3"
  },
  "language_info": {
   "codemirror_mode": {
    "name": "ipython",
    "version": 3
   },
   "file_extension": ".py",
   "mimetype": "text/x-python",
   "name": "python",
   "nbconvert_exporter": "python",
   "pygments_lexer": "ipython3",
   "version": "3.8.13"
  }
 },
 "nbformat": 4,
 "nbformat_minor": 5
}
