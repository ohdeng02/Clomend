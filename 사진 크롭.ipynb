{
 "cells": [
  {
   "cell_type": "code",
   "execution_count": 38,
   "id": "c19036ef",
   "metadata": {},
   "outputs": [
    {
     "name": "stdout",
     "output_type": "stream",
     "text": [
      "잘려진 사진 크기 : (140, 120)\n"
     ]
    }
   ],
   "source": [
    "from PIL import Image\n",
    " \n",
    "image1 = Image.open(\"C:/Users/Daeun/종프/rembg_imgs/img4.png\")\n",
    "image1.show()\n",
    " \n",
    "#이미지의 크기 출력\n",
    "#print(image1.size)\n",
    " \n",
    "# 이미지 자르기 crop함수 이용 ex. crop(left,up, rigth, down)\n",
    "croppedImage=image1.crop((60,60,200,180))\n",
    " \n",
    "croppedImage.show()\n",
    " \n",
    "print(\"잘려진 사진 크기 :\",croppedImage.size)\n",
    " \n",
    "croppedImage.save('croppedImage.PNG')"
   ]
  },
  {
   "cell_type": "code",
   "execution_count": 36,
   "id": "a1ef05b6",
   "metadata": {},
   "outputs": [],
   "source": [
    "from PIL import Image\n",
    "def crop(img_num):\n",
    "    \n",
    "    path = Image.open(\"C:/Users/Daeun/종프/rembg_imgs/img{}.png\".format(img_num))\n",
    "    \n",
    "    croppedImage = path.crop((60,60,180,170))\n",
    "    croppedImage.show()\n",
    "    #print(\"잘려진 사진 크기 :\",croppedImage.size)\n",
    "    \n",
    "    croppedImage.save(\"C:/Users/Daeun/종프/crop_imgs/img{}.png\".format(img_num))"
   ]
  },
  {
   "cell_type": "code",
   "execution_count": 38,
   "id": "25059c47",
   "metadata": {},
   "outputs": [],
   "source": [
    "crop(9)"
   ]
  },
  {
   "cell_type": "code",
   "execution_count": 15,
   "id": "b7f12b22",
   "metadata": {},
   "outputs": [],
   "source": [
    "list = [44]\n",
    "for i in list:\n",
    "    crop(i)"
   ]
  }
 ],
 "metadata": {
  "kernelspec": {
   "display_name": "Python 3 (ipykernel)",
   "language": "python",
   "name": "python3"
  },
  "language_info": {
   "codemirror_mode": {
    "name": "ipython",
    "version": 3
   },
   "file_extension": ".py",
   "mimetype": "text/x-python",
   "name": "python",
   "nbconvert_exporter": "python",
   "pygments_lexer": "ipython3",
   "version": "3.8.13"
  }
 },
 "nbformat": 4,
 "nbformat_minor": 5
}
