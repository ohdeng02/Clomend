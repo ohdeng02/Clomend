{
 "cells": [
  {
   "cell_type": "markdown",
   "id": "88bae53c",
   "metadata": {},
   "source": [
    "# 무신사 브랜드 스냅_ 웹크롤링"
   ]
  },
  {
   "cell_type": "markdown",
   "id": "736dcae2",
   "metadata": {},
   "source": [
    "#### 필요한 모듈 설정"
   ]
  },
  {
   "cell_type": "code",
   "execution_count": 1,
   "id": "30407c08",
   "metadata": {},
   "outputs": [],
   "source": [
    "from selenium import webdriver\n",
    "from selenium.webdriver.common.by import By\n",
    "from selenium.webdriver.chrome.service import Service as ChromeService\n",
    "import urllib.request\n",
    "import time\n",
    "import os"
   ]
  },
  {
   "cell_type": "markdown",
   "id": "b72f5e69",
   "metadata": {},
   "source": [
    "#### chrome : 다운받은 chromedriver의 위치를 지정"
   ]
  },
  {
   "cell_type": "code",
   "execution_count": 10,
   "id": "2d03d218",
   "metadata": {},
   "outputs": [
    {
     "name": "stderr",
     "output_type": "stream",
     "text": [
      "C:\\Users\\Daeun\\AppData\\Local\\Temp\\ipykernel_20532\\4137347387.py:1: DeprecationWarning: executable_path has been deprecated, please pass in a Service object\n",
      "  dr = webdriver.Chrome(executable_path='C:/Users/Daeun/Downloads/chromedriver_win32/chromedriver.exe')\n"
     ]
    }
   ],
   "source": [
    "dr = webdriver.Chrome(executable_path='C:/Users/Daeun/Downloads/chromedriver_win32/chromedriver.exe')\n",
    "# 3초 기다리기\n",
    "dr.implicitly_wait(3)"
   ]
  },
  {
   "cell_type": "markdown",
   "id": "bc257a98",
   "metadata": {},
   "source": [
    "#### crawling함수 : 웹 크롤링으로 이미지 저장하기\n",
    "- pages : 크롤링할 페이지 수\n",
    "- total_images : 총 images\n",
    "- imgs : images remote\n",
    "- image_urls : imgs를 통해 얻은 image url\n",
    "- next : 다음 페이지를 위한 변수"
   ]
  },
  {
   "cell_type": "code",
   "execution_count": 8,
   "id": "9849964b",
   "metadata": {},
   "outputs": [],
   "source": [
    "def crawling(pages):\n",
    "    total_images=[]\n",
    "    imgs = []\n",
    "    for num in range(pages):\n",
    "        # 크롤링 할 페이지 url에 접근\n",
    "        dr.get('https://www.musinsa.com/mz/brandsnap?ordw=inc&p={}'.format(num+1))\n",
    "        \n",
    "        items = dr.find_element(By.CLASS_NAME,\"list-box.box\")\n",
    "        images = items.find_elements(By.CLASS_NAME,\"listItem\")\n",
    "        total_images += images\n",
    "\n",
    "        next = 60*num\n",
    "        # 한 페이지에 이미지 수 : 60\n",
    "        for i in range(0+next, 60+next):\n",
    "            imgs.append(total_images[i].find_element(By.CSS_SELECTOR,'a > img'))\n",
    "\n",
    "        image_urls = []\n",
    "        for img in imgs[0+next: 60+next]:\n",
    "            image_urls.append(img.get_attribute(\"src\"))\n",
    "            \n",
    "        # 이미지 저장하기\n",
    "        outdir = \"C:/Users/Daeun/종프/imgs/\" #지정 이미지 저장 디렉토리\n",
    "        if not os.path.isdir(outdir): #디렉토리가 존재하지 않는다면 생성\n",
    "            os.makedirs(outdir)\n",
    "            \n",
    "        for idx, image_url in enumerate(image_urls):\n",
    "            urllib.request.urlretrieve(image_url,outdir+\"img{}.png\".format(idx+next))\n",
    "            \n",
    "        # 다음 페이지 가기 전 10초 기다리기  \n",
    "        dr.implicitly_wait(10)"
   ]
  },
  {
   "cell_type": "markdown",
   "id": "21d00ed1",
   "metadata": {},
   "source": [
    "#### 2페이지까지 웹크롤링 이미지 저장하기"
   ]
  },
  {
   "cell_type": "code",
   "execution_count": 11,
   "id": "b2a7980d",
   "metadata": {},
   "outputs": [],
   "source": [
    "crawling(2)"
   ]
  }
 ],
 "metadata": {
  "kernelspec": {
   "display_name": "Python 3 (ipykernel)",
   "language": "python",
   "name": "python3"
  },
  "language_info": {
   "codemirror_mode": {
    "name": "ipython",
    "version": 3
   },
   "file_extension": ".py",
   "mimetype": "text/x-python",
   "name": "python",
   "nbconvert_exporter": "python",
   "pygments_lexer": "ipython3",
   "version": "3.8.13"
  }
 },
 "nbformat": 4,
 "nbformat_minor": 5
}
